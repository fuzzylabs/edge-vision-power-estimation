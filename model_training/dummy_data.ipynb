{
 "cells": [
  {
   "cell_type": "code",
   "execution_count": 3,
   "id": "initial_id",
   "metadata": {
    "collapsed": true,
    "ExecuteTime": {
     "end_time": "2024-10-28T15:02:05.686550Z",
     "start_time": "2024-10-28T15:02:05.681738Z"
    }
   },
   "outputs": [],
   "source": [
    "import pandas as pd\n",
    "import random"
   ]
  },
  {
   "cell_type": "code",
   "outputs": [],
   "source": [
    "def dummy_row_conv2d():\n",
    "    batch_size = random.choice([8, 16, 32, 64, 128])\n",
    "    input_size = random.choice([128, 256, 512, 1024])\n",
    "    output_size = random.choice([128, 256, 512, 1024])\n",
    "    kernel = random.choice([1, 3, 5, 7])\n",
    "    padding = random.choice([1, 2, 3, 4, 5])\n",
    "    stride = random.choice([1, 2, 4, 8])\n",
    "    runtime = random.normalvariate(10.0, 2.5)\n",
    "    power = random.normalvariate(50.0, 12.5)\n",
    "    return {\n",
    "        \"batch_size\": batch_size,\n",
    "        \"input_size_0\": input_size,\n",
    "        \"input_size_1\": input_size,\n",
    "        \"input_size_2\": input_size,\n",
    "        \"output_size_0\": output_size,\n",
    "        \"output_size_1\": output_size,\n",
    "        \"output_size_2\": output_size,\n",
    "        \"kernel_0\": kernel,\n",
    "        \"kernel_1\": kernel,\n",
    "        \"padding_0\": padding,\n",
    "        \"padding_1\": padding,\n",
    "        \"stride_0\": stride,\n",
    "        \"stride_1\": stride,\n",
    "        \"runtime\": runtime,\n",
    "        \"power\": power,\n",
    "    }\n",
    "\n",
    "rows = [dummy_row_conv2d() for _ in range(100)]\n",
    "\n",
    "pd.DataFrame(rows).to_csv(\"data/dummy_conv.csv\", index=False)"
   ],
   "metadata": {
    "collapsed": false,
    "ExecuteTime": {
     "end_time": "2024-10-28T15:22:28.228895Z",
     "start_time": "2024-10-28T15:22:28.219225Z"
    }
   },
   "id": "7954f4c638f3b251",
   "execution_count": 8
  },
  {
   "cell_type": "code",
   "outputs": [],
   "source": [
    "def dummy_row_dense():\n",
    "    batch_size = random.choice([8, 16, 32, 64, 128])\n",
    "    input_size = random.choice([128, 256, 512, 1024])\n",
    "    output_size = random.choice([128, 256, 512, 1024])\n",
    "    runtime = random.normalvariate(10.0, 2.5)\n",
    "    power = random.normalvariate(50.0, 12.5)\n",
    "    return {\n",
    "        \"batch_size\": batch_size,\n",
    "        \"input_size\": input_size,\n",
    "        \"output_size\": output_size,\n",
    "        \"runtime\": runtime,\n",
    "        \"power\": power,\n",
    "    }\n",
    "\n",
    "rows = [dummy_row_dense() for _ in range(100)]\n",
    "\n",
    "pd.DataFrame(rows).to_csv(\"data/dummy_dense.csv\", index=False)"
   ],
   "metadata": {
    "collapsed": false,
    "ExecuteTime": {
     "end_time": "2024-10-29T06:27:59.787377Z",
     "start_time": "2024-10-29T06:27:59.755332Z"
    }
   },
   "id": "606106d164658378",
   "execution_count": 9
  },
  {
   "cell_type": "code",
   "outputs": [],
   "source": [
    "def dummy_row_pool2d():\n",
    "    batch_size = random.choice([8, 16, 32, 64, 128])\n",
    "    input_size = random.choice([128, 256, 512, 1024])\n",
    "    output_size = random.choice([128, 256, 512, 1024])\n",
    "    kernel = random.choice([1, 3, 5, 7])\n",
    "    stride = random.choice([1, 2, 4, 8])\n",
    "    runtime = random.normalvariate(10.0, 2.5)\n",
    "    power = random.normalvariate(50.0, 12.5)\n",
    "    return {\n",
    "        \"batch_size\": batch_size,\n",
    "        \"input_size_0\": input_size,\n",
    "        \"input_size_1\": input_size,\n",
    "        \"input_size_2\": input_size,\n",
    "        \"output_size_0\": output_size,\n",
    "        \"output_size_1\": output_size,\n",
    "        \"output_size_2\": output_size,\n",
    "        \"kernel_0\": kernel,\n",
    "        \"kernel_1\": kernel,\n",
    "        \"stride_0\": stride,\n",
    "        \"stride_1\": stride,\n",
    "        \"runtime\": runtime,\n",
    "        \"power\": power,\n",
    "    }\n",
    "\n",
    "rows = [dummy_row_pool2d() for _ in range(100)]\n",
    "\n",
    "pd.DataFrame(rows).to_csv(\"data/dummy_pooling.csv\", index=False)"
   ],
   "metadata": {
    "collapsed": false,
    "ExecuteTime": {
     "end_time": "2024-10-29T07:15:59.682728Z",
     "start_time": "2024-10-29T07:15:59.662113Z"
    }
   },
   "id": "d3b10f7c91b40bce",
   "execution_count": 10
  }
 ],
 "metadata": {
  "kernelspec": {
   "display_name": "Python 3",
   "language": "python",
   "name": "python3"
  },
  "language_info": {
   "codemirror_mode": {
    "name": "ipython",
    "version": 2
   },
   "file_extension": ".py",
   "mimetype": "text/x-python",
   "name": "python",
   "nbconvert_exporter": "python",
   "pygments_lexer": "ipython2",
   "version": "2.7.6"
  }
 },
 "nbformat": 4,
 "nbformat_minor": 5
}
