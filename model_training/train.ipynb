{
 "cells": [
  {
   "cell_type": "code",
   "execution_count": null,
   "id": "initial_id",
   "metadata": {
    "ExecuteTime": {
     "end_time": "2024-10-28T15:23:29.131931Z",
     "start_time": "2024-10-28T15:23:29.125472Z"
    }
   },
   "outputs": [],
   "source": [
    "from pathlib import Path\n",
    "\n",
    "from sklearn.model_selection import train_test_split\n",
    "from sklearn.metrics import mean_squared_error, r2_score"
   ]
  },
  {
   "cell_type": "code",
   "execution_count": null,
   "id": "67d47b2c5216f019",
   "metadata": {
    "ExecuteTime": {
     "end_time": "2024-10-29T06:30:48.241973Z",
     "start_time": "2024-10-29T06:30:47.930563Z"
    },
    "collapsed": false,
    "jupyter": {
     "outputs_hidden": false
    }
   },
   "outputs": [],
   "source": [
    "from model.convolutional_layer import read_convolutional_data, create_power_pipeline, create_runtime_pipeline\n",
    "\n",
    "path = Path(\"data/mobilenet_v2/convolutional.csv\")\n",
    "\n",
    "input_features, power, runtime = read_convolutional_data(path)\n",
    "input_features_train, input_features_test, power_train, power_test, runtime_train, runtime_test = train_test_split(input_features, power, runtime)\n",
    "\n",
    "power_pipeline = create_power_pipeline()\n",
    "runtime_pipeline = create_runtime_pipeline()\n",
    "\n",
    "print(power_pipeline)\n",
    "power_pipeline.fit(input_features_train.values, power_train.values)\n",
    "\n",
    "power_pred = power_pipeline.predict(input_features_test.values)\n",
    "\n",
    "display(\"Power Pipeline\")\n",
    "display(power_pipeline)\n",
    "display(\"MSE\", mean_squared_error(power_test, power_pred))\n",
    "display(\"R2\", r2_score(power_test, power_pred))\n",
    "\n",
    "runtime_pipeline.fit(input_features_train.values, runtime_train.values)\n",
    "\n",
    "runtime_pred = runtime_pipeline.predict(input_features_test.values)\n",
    "\n",
    "display(\"Runtime Pipeline\")\n",
    "display(runtime_pipeline)\n",
    "display(\"MSE\", mean_squared_error(runtime_test, runtime_pred))\n",
    "display(\"R2\", r2_score(runtime_test, runtime_pred))\n"
   ]
  },
  {
   "cell_type": "code",
   "execution_count": null,
   "id": "370221b2c7428afa",
   "metadata": {
    "ExecuteTime": {
     "end_time": "2024-10-29T06:31:12.622377Z",
     "start_time": "2024-10-29T06:31:12.413227Z"
    },
    "collapsed": false,
    "jupyter": {
     "outputs_hidden": false
    }
   },
   "outputs": [],
   "source": [
    "from model.dense_layer import read_dense_data, create_power_pipeline, create_runtime_pipeline\n",
    "\n",
    "path = Path(\"data/dummy_dense.csv\")\n",
    "\n",
    "input_features, power, runtime = read_dense_data(path)\n",
    "input_features_train, input_features_test, power_train, power_test, runtime_train, runtime_test = train_test_split(input_features, power, runtime)\n",
    "\n",
    "power_pipeline = create_power_pipeline()\n",
    "runtime_pipeline = create_runtime_pipeline()\n",
    "\n",
    "power_pipeline.fit(input_features_train.values, power_train.values)\n",
    "\n",
    "power_pred = power_pipeline.predict(input_features_test.values)\n",
    "\n",
    "display(\"Power Pipeline\")\n",
    "display(power_pipeline)\n",
    "display(\"MSE\", mean_squared_error(power_test, power_pred))\n",
    "display(\"R2\", r2_score(power_test, power_pred))\n",
    "\n",
    "runtime_pipeline.fit(input_features_train.values, runtime_train.values)\n",
    "\n",
    "runtime_pred = runtime_pipeline.predict(input_features_test.values)\n",
    "\n",
    "display(\"Runtime Pipeline\")\n",
    "display(runtime_pipeline)\n",
    "display(\"MSE\", mean_squared_error(runtime_test, runtime_pred))\n",
    "display(\"R2\", r2_score(runtime_test, runtime_pred))\n"
   ]
  },
  {
   "cell_type": "code",
   "execution_count": null,
   "id": "2891e6c9cc1bf2cc",
   "metadata": {
    "ExecuteTime": {
     "end_time": "2024-10-29T07:16:52.412832Z",
     "start_time": "2024-10-29T07:16:52.150371Z"
    },
    "collapsed": false,
    "jupyter": {
     "outputs_hidden": false
    }
   },
   "outputs": [],
   "source": [
    "from model.pooling_layer import read_pooling_data, create_power_pipeline, create_runtime_pipeline\n",
    "\n",
    "path = Path(\"data/mobilenet_v2/pooling.csv\")\n",
    "\n",
    "input_features, power, runtime = read_pooling_data(path)\n",
    "input_features_train, input_features_test, power_train, power_test, runtime_train, runtime_test = train_test_split(input_features, power, runtime)\n",
    "\n",
    "power_pipeline = create_power_pipeline()\n",
    "runtime_pipeline = create_runtime_pipeline()\n",
    "\n",
    "power_pipeline.fit(input_features_train.values, power_train.values)\n",
    "\n",
    "power_pred = power_pipeline.predict(input_features_test.values)\n",
    "\n",
    "display(\"Power Pipeline\")\n",
    "display(power_pipeline)\n",
    "display(\"MSE\", mean_squared_error(power_test, power_pred))\n",
    "display(\"R2\", r2_score(power_test, power_pred))\n",
    "\n",
    "runtime_pipeline.fit(input_features_train.values, runtime_train.values)\n",
    "\n",
    "runtime_pred = runtime_pipeline.predict(input_features_test.values)\n",
    "\n",
    "display(\"Runtime Pipeline\")\n",
    "display(runtime_pipeline)\n",
    "display(\"MSE\", mean_squared_error(runtime_test, runtime_pred))\n",
    "display(\"R2\", r2_score(runtime_test, runtime_pred))\n"
   ]
  },
  {
   "cell_type": "code",
   "execution_count": null,
   "id": "d259a94b-291b-4a56-83cd-92fcb5ce5bc7",
   "metadata": {},
   "outputs": [],
   "source": []
  }
 ],
 "metadata": {
  "kernelspec": {
   "display_name": "Python 3 (ipykernel)",
   "language": "python",
   "name": "python3"
  },
  "language_info": {
   "codemirror_mode": {
    "name": "ipython",
    "version": 3
   },
   "file_extension": ".py",
   "mimetype": "text/x-python",
   "name": "python",
   "nbconvert_exporter": "python",
   "pygments_lexer": "ipython3",
   "version": "3.12.5"
  },
  "widgets": {
   "application/vnd.jupyter.widget-state+json": {
    "state": {},
    "version_major": 2,
    "version_minor": 0
   }
  }
 },
 "nbformat": 4,
 "nbformat_minor": 5
}
