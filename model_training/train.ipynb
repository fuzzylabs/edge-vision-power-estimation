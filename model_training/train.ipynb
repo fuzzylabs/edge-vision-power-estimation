{
 "cells": [
  {
   "cell_type": "code",
   "execution_count": null,
   "id": "0",
   "metadata": {},
   "outputs": [],
   "source": [
    "from pipeline.trainer import Trainer\n",
    "from sklearn.pipeline import Pipeline\n",
    "from sklearn.preprocessing import StandardScaler\n",
    "from sklearn.linear_model import LassoCV\n",
    "from config.convolutional_features import CONV_FEATURES, TOTAL_CONV_OPS_PER_INPUT, TOTAL_CONV_OPS_PER_BATCH"
   ]
  },
  {
   "cell_type": "code",
   "execution_count": null,
   "id": "1",
   "metadata": {
    "jupyter": {
     "outputs_hidden": false
    }
   },
   "outputs": [],
   "source": [
    "data_config = {\n",
    "    'data_dir': 'training_data',\n",
    "    'cross_validation': 10,\n",
    "    'test_models': [\"lenet\"]\n",
    "}\n",
    "\n",
    "\n",
    "CONVOLUTION_PIPELINE = {\n",
    "    \"power\": {\n",
    "        \"is_log\": True,\n",
    "        \"degree\": 3,\n",
    "        \"special_terms_list\": [TOTAL_CONV_OPS_PER_INPUT, TOTAL_CONV_OPS_PER_BATCH],\n",
    "    },\n",
    "    \"runtime\": {\n",
    "        \"is_log\": False,\n",
    "        \"degree\": 3,\n",
    "        \"special_terms_list\": [TOTAL_CONV_OPS_PER_INPUT, TOTAL_CONV_OPS_PER_BATCH],\n",
    "    },\n",
    "}\n"
   ]
  },
  {
   "cell_type": "code",
   "execution_count": null,
   "id": "2",
   "metadata": {
    "jupyter": {
     "outputs_hidden": false
    }
   },
   "outputs": [],
   "source": [
    "trainer = Trainer(data_config=data_config, features=CONV_FEATURES)\n",
    "\n",
    "dataset = trainer.get_dataset(pattern='**/convolutional.csv')\n",
    "\n",
    "pipeline = trainer.get_model(features_mapping=trainer.dataset_builder.features_mapping,\n",
    "                                                   polynomial_degree=CONVOLUTION_PIPELINE['power']['degree'],\n",
    "                                                   is_log=CONVOLUTION_PIPELINE['power']['degree'],\n",
    "                                                   special_terms_list=CONVOLUTION_PIPELINE['power']['special_terms_list']\n",
    "                                                  )\n",
    "\n",
    "print(pipeline)"
   ]
  },
  {
   "cell_type": "code",
   "execution_count": null,
   "id": "3",
   "metadata": {},
   "outputs": [],
   "source": [
    "%%time\n",
    "train_features, power_train = dataset.train.input_features.values, dataset.train.power.values\n",
    "pipeline.fit(train_features, power_train)"
   ]
  },
  {
   "cell_type": "code",
   "execution_count": null,
   "id": "4",
   "metadata": {
    "jupyter": {
     "outputs_hidden": false
    }
   },
   "outputs": [],
   "source": [
    "import matplotlib.pyplot as plt\n",
    "\n",
    "ymin, ymax = 0, 100\n",
    "lasso = pipeline[-1]\n",
    "plt.semilogx(lasso.alphas_, lasso.mse_path_, linestyle=\":\")\n",
    "plt.plot(\n",
    "    lasso.alphas_,\n",
    "    lasso.mse_path_.mean(axis=-1),\n",
    "    color=\"black\",\n",
    "    label=\"Average across the folds\",\n",
    "    linewidth=2,\n",
    ")\n",
    "plt.axvline(lasso.alpha_, linestyle=\"--\", color=\"black\", label=\"alpha: CV estimate\")\n",
    "\n",
    "plt.ylim(ymin, ymax)\n",
    "plt.xlabel(r\"$\\alpha$\")\n",
    "plt.ylabel(\"Mean square error\")\n",
    "plt.legend()\n",
    "_ = plt.title(\"Mean square error on each fold: coordinate descent\")"
   ]
  },
  {
   "cell_type": "code",
   "execution_count": null,
   "id": "5",
   "metadata": {},
   "outputs": [],
   "source": [
    "pipeline = trainer.get_model(features_mapping=trainer.dataset_builder.features_mapping,\n",
    "                                                   polynomial_degree=CONVOLUTION_PIPELINE['runtime']['degree'],\n",
    "                                                   is_log=CONVOLUTION_PIPELINE['runtime']['degree'],\n",
    "                                                   special_terms_list=CONVOLUTION_PIPELINE['runtime']['special_terms_list']\n",
    "                                                  )\n",
    "\n",
    "print(pipeline)"
   ]
  },
  {
   "cell_type": "code",
   "execution_count": null,
   "id": "6",
   "metadata": {},
   "outputs": [],
   "source": [
    "%%time\n",
    "train_features, runtime_train = dataset.train.input_features.values, dataset.train.runtime.values\n",
    "pipeline.fit(train_features, runtime_train)"
   ]
  },
  {
   "cell_type": "code",
   "execution_count": null,
   "id": "7",
   "metadata": {},
   "outputs": [],
   "source": [
    "import matplotlib.pyplot as plt\n",
    "\n",
    "ymin, ymax = 0, 100\n",
    "lasso = pipeline[-1]\n",
    "plt.semilogx(lasso.alphas_, lasso.mse_path_, linestyle=\":\")\n",
    "plt.plot(\n",
    "    lasso.alphas_,\n",
    "    lasso.mse_path_.mean(axis=-1),\n",
    "    color=\"black\",\n",
    "    label=\"Average across the folds\",\n",
    "    linewidth=2,\n",
    ")\n",
    "plt.axvline(lasso.alpha_, linestyle=\"--\", color=\"black\", label=\"alpha: CV estimate\")\n",
    "\n",
    "plt.ylim(ymin, ymax)\n",
    "plt.xlabel(r\"$\\alpha$\")\n",
    "plt.ylabel(\"Mean square error\")\n",
    "plt.legend()\n",
    "_ = plt.title(\"Mean square error on each fold: coordinate descent\")"
   ]
  },
  {
   "cell_type": "code",
   "execution_count": null,
   "id": "8",
   "metadata": {},
   "outputs": [],
   "source": []
  }
 ],
 "metadata": {
  "kernelspec": {
   "display_name": "Python 3 (ipykernel)",
   "language": "python",
   "name": "python3"
  },
  "language_info": {
   "codemirror_mode": {
    "name": "ipython",
    "version": 3
   },
   "file_extension": ".py",
   "mimetype": "text/x-python",
   "name": "python",
   "nbconvert_exporter": "python",
   "pygments_lexer": "ipython3",
   "version": "3.12.5"
  }
 },
 "nbformat": 4,
 "nbformat_minor": 5
}
