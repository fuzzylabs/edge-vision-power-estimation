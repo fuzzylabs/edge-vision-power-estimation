{
 "cells": [
  {
   "cell_type": "code",
   "execution_count": 1,
   "id": "ebf34ace-29b5-46c4-841e-95653ffe7240",
   "metadata": {},
   "outputs": [],
   "source": [
    "# Add directory above current directory to path\n",
    "import sys; sys.path.insert(0, '..')\n",
    "\n",
    "from functools import partial\n",
    "from pathlib import Path\n",
    "from pprint import pprint\n",
    "\n",
    "import optuna\n",
    "import pandas as pd\n",
    "from IPython.display import display\n",
    "\n",
    "from config.convolutional_features import *\n",
    "from data_preparation.io_utils import read_yaml_file\n",
    "from dataset.dataset_builder import DatasetBuilder\n",
    "from model.model_builder import ModelBuilder\n",
    "from model.model_tuning import OptunaOptimizer\n",
    "from pipeline.trainer import Trainer\n",
    "\n",
    "CONFIG_PATH = Path('../config/config.yaml')"
   ]
  },
  {
   "cell_type": "code",
   "execution_count": 2,
   "id": "b88b7bca-1d60-4e7e-9961-1cfbd23578e7",
   "metadata": {},
   "outputs": [
    {
     "name": "stdout",
     "output_type": "stream",
     "text": [
      "{'data_dir': 'training_data', 'test_models': ['lenet', 'resnet18', 'vgg16']}\n"
     ]
    }
   ],
   "source": [
    "# Data Configuration\n",
    "config = read_yaml_file(CONFIG_PATH)\n",
    "data_config = config['data']\n",
    "print(data_config)\n",
    "conv_pattern = \"**/convolutional.csv\""
   ]
  },
  {
   "cell_type": "code",
   "execution_count": 3,
   "id": "a2aaa26d-f01e-48c7-a6ef-d4e3ce2b6fb9",
   "metadata": {},
   "outputs": [],
   "source": [
    "dataset_builder = DatasetBuilder(features=CONV_FEATURES)\n",
    "conv_dataset = dataset_builder.create_dataset(\n",
    "            data_dir=Path('../training_data'),\n",
    "            test_models=data_config[\"test_models\"],\n",
    "            pattern=conv_pattern,\n",
    "        )"
   ]
  },
  {
   "cell_type": "code",
   "execution_count": 4,
   "id": "26902772-8ee6-4e64-8555-25be6b336766",
   "metadata": {},
   "outputs": [
    {
     "name": "stdout",
     "output_type": "stream",
     "text": [
      "Number of training samples: 550\n",
      "Number of testing samples: 35\n"
     ]
    }
   ],
   "source": [
    "print(f\"Number of training samples: {len(conv_dataset.train.input_features)}\")\n",
    "print(f\"Number of testing samples: {len(conv_dataset.test.input_features)}\")"
   ]
  },
  {
   "cell_type": "markdown",
   "id": "50d5f6f9-f101-48f5-a1f3-202f608e93f9",
   "metadata": {},
   "source": [
    "## Baseline Models\n",
    "\n",
    "\n",
    "Baseline models for power and runtime models, we will use the mean of train dataset as prediction.\n",
    "\n",
    "\n",
    "### Baseline Result\n",
    "\n",
    "Test dataset RMSPE Power : 85.87%\n",
    "\n",
    "Test dataset RMSPE Runtime: 110.50%"
   ]
  },
  {
   "cell_type": "code",
   "execution_count": 5,
   "id": "1df22f5b-7c0b-455d-a0ba-879a446bf44f",
   "metadata": {},
   "outputs": [],
   "source": [
    "trainer = Trainer(data_config=data_config, model_config=config['model'], features=CONV_FEATURES)"
   ]
  },
  {
   "cell_type": "code",
   "execution_count": 6,
   "id": "cb7b73b3-0411-4b57-8563-3f58dad45777",
   "metadata": {},
   "outputs": [],
   "source": [
    "mean_power = conv_dataset.train.power.mean()\n",
    "target = conv_dataset.test.power"
   ]
  },
  {
   "cell_type": "code",
   "execution_count": 7,
   "id": "708d5bfd-abba-4ab1-be9e-eecab676701a",
   "metadata": {},
   "outputs": [
    {
     "name": "stdout",
     "output_type": "stream",
     "text": [
      "{'testing_mean_absolute_error': np.float64(1.7149496159728483),\n",
      " 'testing_mean_absolute_percentage_error': np.float64(0.44269584130221895),\n",
      " 'testing_mean_squared_error': np.float64(3.8481622171144707),\n",
      " 'testing_r2_score': -0.007932728803180078,\n",
      " 'testing_root_mean_squared_error': np.float64(1.9616733206919217),\n",
      " 'testing_root_mean_squared_percentage_error': np.float64(85.87328424670017)}\n"
     ]
    }
   ],
   "source": [
    "pprint(trainer.eval_metrics(actual=target, pred=[mean_power]*len(target)))"
   ]
  },
  {
   "cell_type": "code",
   "execution_count": 8,
   "id": "be4ba2d1-6f7c-42df-8076-28233a8fdaa0",
   "metadata": {},
   "outputs": [],
   "source": [
    "mean_runtime = conv_dataset.train.runtime.mean()\n",
    "target = conv_dataset.test.runtime"
   ]
  },
  {
   "cell_type": "code",
   "execution_count": 9,
   "id": "9b9f7c3e-638c-43dc-9292-41d0616b3a75",
   "metadata": {},
   "outputs": [
    {
     "name": "stdout",
     "output_type": "stream",
     "text": [
      "{'testing_mean_absolute_error': np.float64(0.12056363355248609),\n",
      " 'testing_mean_absolute_percentage_error': np.float64(0.8375628311081222),\n",
      " 'testing_mean_squared_error': np.float64(0.037841535688586815),\n",
      " 'testing_r2_score': -0.22620085772044263,\n",
      " 'testing_root_mean_squared_error': np.float64(0.1945290098894939),\n",
      " 'testing_root_mean_squared_percentage_error': np.float64(110.50456893679386)}\n"
     ]
    }
   ],
   "source": [
    "pprint(trainer.eval_metrics(actual=target, pred=[mean_runtime]*len(target)))"
   ]
  },
  {
   "cell_type": "markdown",
   "id": "5c6ecf46-0b18-4f9e-a875-050888184372",
   "metadata": {},
   "source": [
    "## Power\n",
    "\n",
    "[Optuna](https://optuna.org/) library is used to perform hyperparameter tuning for power model."
   ]
  },
  {
   "cell_type": "code",
   "execution_count": 10,
   "id": "3c6ed2a8-4c16-4839-8cda-5f49804e7ca4",
   "metadata": {},
   "outputs": [
    {
     "name": "stdout",
     "output_type": "stream",
     "text": [
      "Training shape: (550, 13), (550,)\n",
      "Testing shape: (35, 13), (35,)\n"
     ]
    }
   ],
   "source": [
    "X_train = conv_dataset.train.input_features.values\n",
    "y_power_train = conv_dataset.train.power.values\n",
    "print(f\"Training shape: {X_train.shape}, {y_power_train.shape}\")\n",
    "\n",
    "X_test = conv_dataset.test.input_features.values\n",
    "y_power_test = conv_dataset.test.power.values\n",
    "print(f\"Testing shape: {X_test.shape}, {y_power_test.shape}\")"
   ]
  },
  {
   "cell_type": "code",
   "execution_count": 11,
   "id": "1992d4b1-3265-4401-bdd5-e46af553d7bc",
   "metadata": {},
   "outputs": [],
   "source": [
    "model_builder = ModelBuilder()\n",
    "optimizer = OptunaOptimizer(X_train=X_train, y_train=y_power_train, X_test=X_test, y_test=y_power_test, model_builder=model_builder)"
   ]
  },
  {
   "cell_type": "code",
   "execution_count": null,
   "id": "b3d57a58-7e6f-41c4-bc35-2cd5e53dc575",
   "metadata": {
    "scrolled": true
   },
   "outputs": [
    {
     "name": "stderr",
     "output_type": "stream",
     "text": [
      "[I 2024-11-26 18:01:00,611] A new study created in RDB with name: conv_power_model_tuning\n",
      "[I 2024-11-26 18:01:00,984] Trial 0 finished with value: 0.10253354479278853 and parameters: {'degree': 3, 'log_scale': False, 'special_features': True, 'scalers': 'robust', 'max_iter': 2730, 'n_alphas': 485, 'fit_intercept': True, 'positive': True}. Best is trial 0 with value: 0.10253354479278853.\n",
      "[I 2024-11-26 18:01:01,579] Trial 1 finished with value: -7.66286511952006 and parameters: {'degree': 2, 'log_scale': True, 'special_features': True, 'scalers': 'standard', 'max_iter': 18417, 'n_alphas': 892, 'fit_intercept': False, 'positive': False}. Best is trial 0 with value: 0.10253354479278853.\n",
      "[I 2024-11-26 18:02:00,647] Trial 2 finished with value: 0.7385479094333176 and parameters: {'degree': 4, 'log_scale': True, 'special_features': False, 'scalers': 'minmax', 'max_iter': 1187, 'n_alphas': 137, 'fit_intercept': False, 'positive': True}. Best is trial 2 with value: 0.7385479094333176.\n"
     ]
    }
   ],
   "source": [
    "%%time\n",
    "\n",
    "# Ignore ConvergenceWarning from sklearn to avoid tab crash\n",
    "from warnings import filterwarnings\n",
    "filterwarnings('ignore')\n",
    "\n",
    "# Maximize the test R^2 score during tuning\n",
    "power_study = optuna.create_study(study_name='conv_power_model_tuning', direction=\"maximize\", storage=\"sqlite:///conv_power_model_tuning.db\")\n",
    "# Run study for 100 trials\n",
    "power_study.optimize(partial(optimizer.objective, \n",
    "                             features_mapping=dataset_builder.features_mapping, \n",
    "                             special_terms_list=[TOTAL_CONV_OPS_PER_INPUT, TOTAL_CONV_OPS_PER_BATCH]), \n",
    "               n_trials=100)"
   ]
  },
  {
   "cell_type": "code",
   "execution_count": null,
   "id": "428d2d6c-467f-44a0-9be9-395ef4880423",
   "metadata": {},
   "outputs": [],
   "source": [
    "# print the best performing pipeline\n",
    "pprint(power_study.best_trial)"
   ]
  },
  {
   "cell_type": "code",
   "execution_count": null,
   "id": "fa57b0c8-a52d-4845-8cc5-d6eea99f0d8b",
   "metadata": {},
   "outputs": [],
   "source": [
    "from optuna.visualization import plot_optimization_history\n",
    "\n",
    "plot_optimization_history(power_study)"
   ]
  },
  {
   "cell_type": "code",
   "execution_count": null,
   "id": "7de1889e-acd4-4869-ab7d-c5e389ff8e8e",
   "metadata": {},
   "outputs": [],
   "source": []
  },
  {
   "cell_type": "markdown",
   "id": "18a19f4a-0715-4256-80a5-8839760ea689",
   "metadata": {},
   "source": [
    "## Runtime\n",
    "\n",
    "[Optuna](https://optuna.org/) library is used to perform hyperparameter tuning for runtime model."
   ]
  },
  {
   "cell_type": "code",
   "execution_count": null,
   "id": "3700767a-58e4-4f97-9ca9-39e04f39b724",
   "metadata": {},
   "outputs": [],
   "source": [
    "X_train = conv_dataset.train.input_features.values\n",
    "y_runtime_train = conv_dataset.train.runtime.values\n",
    "print(f\"Training shape: {X_train.shape}, {y_runtime_train.shape}\")\n",
    "\n",
    "X_test = conv_dataset.test.input_features.values\n",
    "y_runtime_test = conv_dataset.test.runtime.values\n",
    "print(f\"Testing shape: {X_test.shape}, {y_runtime_test.shape}\")"
   ]
  },
  {
   "cell_type": "code",
   "execution_count": null,
   "id": "33c50118-8ca1-458a-9072-7ea8638f2d9a",
   "metadata": {},
   "outputs": [],
   "source": [
    "model_builder = ModelBuilder()\n",
    "optimizer = OptunaOptimizer(X_train=X_train, y_train=y_runtime_train, X_test=X_test, y_test=y_runtime_test, model_builder=model_builder)"
   ]
  },
  {
   "cell_type": "code",
   "execution_count": null,
   "id": "28eb0f26-a09d-493d-9bbb-600a9c46be84",
   "metadata": {
    "scrolled": true
   },
   "outputs": [],
   "source": [
    "%%time\n",
    "\n",
    "# Ignore ConvergenceWarning from sklearn to avoid tab crash\n",
    "from warnings import filterwarnings\n",
    "filterwarnings('ignore')\n",
    "\n",
    "# Maximize the test R^2 score during tuning\n",
    "runtime_study = optuna.create_study(study_name='conv_runtime_model_tuning', direction=\"maximize\", storage=\"sqlite:///conv_runtime_model_tuning.db\")\n",
    "# Run study for 100 trials\n",
    "runtime_study.optimize(partial(optimizer.objective, \n",
    "                               features_mapping=dataset_builder.features_mapping, \n",
    "                               special_terms_list=[TOTAL_CONV_OPS_PER_INPUT, TOTAL_CONV_OPS_PER_BATCH]), \n",
    "               n_trials=100)"
   ]
  },
  {
   "cell_type": "code",
   "execution_count": null,
   "id": "a1fe37e1-e56b-427a-9a0c-5bd0558dfb0c",
   "metadata": {},
   "outputs": [],
   "source": [
    "# print the best performing pipeline\n",
    "pprint(runtime_study.best_trial)"
   ]
  },
  {
   "cell_type": "code",
   "execution_count": null,
   "id": "4db2e43d-d80d-4e66-bc02-9b1ea6294909",
   "metadata": {},
   "outputs": [],
   "source": [
    "from optuna.visualization import plot_optimization_history\n",
    "\n",
    "plot_optimization_history(runtime_study)"
   ]
  },
  {
   "cell_type": "code",
   "execution_count": null,
   "id": "31be9e6b-3b47-4d11-b33c-234cad8f2d62",
   "metadata": {},
   "outputs": [],
   "source": []
  }
 ],
 "metadata": {
  "kernelspec": {
   "display_name": "Python 3 (ipykernel)",
   "language": "python",
   "name": "python3"
  },
  "language_info": {
   "codemirror_mode": {
    "name": "ipython",
    "version": 3
   },
   "file_extension": ".py",
   "mimetype": "text/x-python",
   "name": "python",
   "nbconvert_exporter": "python",
   "pygments_lexer": "ipython3",
   "version": "3.12.5"
  },
  "widgets": {
   "application/vnd.jupyter.widget-state+json": {
    "state": {},
    "version_major": 2,
    "version_minor": 0
   }
  }
 },
 "nbformat": 4,
 "nbformat_minor": 5
}
