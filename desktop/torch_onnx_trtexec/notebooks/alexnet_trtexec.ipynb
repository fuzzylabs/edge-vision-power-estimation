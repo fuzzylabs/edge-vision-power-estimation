{
 "cells": [
  {
   "cell_type": "code",
   "execution_count": null,
   "id": "0",
   "metadata": {},
   "outputs": [],
   "source": [
    "import IPython\n",
    "from ipywidgets import widgets\n",
    "import trex\n",
    "from trex import *\n",
    "from trex.notebook import *\n",
    "from trex.report_card import *\n",
    "\n",
    "set_wide_display()"
   ]
  },
  {
   "cell_type": "code",
   "execution_count": null,
   "id": "1",
   "metadata": {},
   "outputs": [],
   "source": [
    "model_name = \"alexnet\"\n",
    "dtype = \"fp16\"\n",
    "\n",
    "engine_name = f\"../models/{model_name}/{model_name}_{dtype}.engine\"\n",
    "graph_file = f\"../results/{model_name}/{model_name}_{dtype}.graph.json\"\n",
    "profiling_file = f\"../results/{model_name}/{model_name}_{dtype}.profile.json\"\n",
    "profiling_metadata_file = f\"../results/{model_name}/{model_name}_{dtype}.profile.metadata.json\"\n",
    "build_metadata_file = f\"../results/{model_name}/{model_name}_{dtype}.build.metadata.json\"\n",
    "timing_json_file = f\"../results/{model_name}/{model_name}_{dtype}.timing.json\""
   ]
  },
  {
   "cell_type": "code",
   "execution_count": null,
   "id": "2",
   "metadata": {},
   "outputs": [],
   "source": [
    "plan = trex.EnginePlan(\n",
    "    graph_file, profiling_file, profiling_metadata_file, build_metadata_file\n",
    ")"
   ]
  },
  {
   "cell_type": "markdown",
   "id": "3",
   "metadata": {},
   "source": [
    "## Plan Summary\n",
    "\n",
    "We get a plan summary consisting of overview of model configuration, device information, builder configuration and performance summary."
   ]
  },
  {
   "cell_type": "code",
   "execution_count": null,
   "id": "4",
   "metadata": {},
   "outputs": [],
   "source": [
    "plan.summary()"
   ]
  },
  {
   "cell_type": "markdown",
   "id": "5",
   "metadata": {},
   "source": [
    "\n",
    "We get a sunburst chart showing percantage of latency for each layer. \n",
    "\n",
    "* The `gemm` layers take up to 69% of overall latency.\n",
    "* The `Convolution` layers take up to 27% of overall latency.\n",
    "* The `Pooling` layers take up to 1% of overall latency.\n",
    "* The `Reformat`, `kgen` and `shape call` layers take remaining 3% share."
   ]
  },
  {
   "cell_type": "code",
   "execution_count": null,
   "id": "6",
   "metadata": {},
   "outputs": [],
   "source": [
    "layer_latency_sunburst(plan.df, \"Layers Latencies (%)\")"
   ]
  },
  {
   "cell_type": "code",
   "execution_count": null,
   "id": "7",
   "metadata": {},
   "outputs": [],
   "source": [
    "report_card_table_view(plan)"
   ]
  },
  {
   "cell_type": "markdown",
   "id": "8",
   "metadata": {},
   "source": [
    "## Timings"
   ]
  },
  {
   "cell_type": "code",
   "execution_count": null,
   "id": "9",
   "metadata": {},
   "outputs": [],
   "source": [
    "plot_engine_timings(timing_json_file= timing_json_file)"
   ]
  },
  {
   "cell_type": "markdown",
   "id": "10",
   "metadata": {},
   "source": [
    "## Performance"
   ]
  },
  {
   "cell_type": "code",
   "execution_count": null,
   "id": "11",
   "metadata": {},
   "outputs": [],
   "source": [
    "report_card_perf_overview_widget(plan)"
   ]
  },
  {
   "cell_type": "markdown",
   "id": "12",
   "metadata": {},
   "source": [
    "## Memory Footprint"
   ]
  },
  {
   "cell_type": "code",
   "execution_count": null,
   "id": "13",
   "metadata": {},
   "outputs": [],
   "source": [
    "report_card_memory_footprint_widget(plan)"
   ]
  },
  {
   "cell_type": "code",
   "execution_count": null,
   "id": "14",
   "metadata": {},
   "outputs": [],
   "source": [
    "convs = plan.get_layers_by_type('Convolution')\n",
    "report_card_convolutions_overview_widget(convs)"
   ]
  },
  {
   "cell_type": "markdown",
   "id": "15",
   "metadata": {},
   "source": [
    "## Export to SVG"
   ]
  },
  {
   "cell_type": "code",
   "execution_count": null,
   "id": "16",
   "metadata": {},
   "outputs": [],
   "source": [
    "report_card_draw_plan_graph_extended(plan, engine_name)"
   ]
  },
  {
   "cell_type": "code",
   "execution_count": null,
   "id": "17",
   "metadata": {},
   "outputs": [],
   "source": []
  }
 ],
 "metadata": {
  "kernelspec": {
   "display_name": "Python 3 (ipykernel)",
   "language": "python",
   "name": "python3"
  },
  "language_info": {
   "codemirror_mode": {
    "name": "ipython",
    "version": 3
   },
   "file_extension": ".py",
   "mimetype": "text/x-python",
   "name": "python",
   "nbconvert_exporter": "python",
   "pygments_lexer": "ipython3",
   "version": "3.11.9"
  }
 },
 "nbformat": 4,
 "nbformat_minor": 5
}
